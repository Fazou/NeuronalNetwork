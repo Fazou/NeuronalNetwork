{
 "metadata": {
  "name": "",
  "signature": "sha256:ae79ef879cced4e5c84667cc42d9aa37b89bb6e585b76effe7dcc403b473d839"
 },
 "nbformat": 3,
 "nbformat_minor": 0,
 "worksheets": []
}
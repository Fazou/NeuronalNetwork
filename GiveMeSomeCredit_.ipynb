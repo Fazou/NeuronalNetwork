{
 "metadata": {
  "anaconda-cloud": {},
  "kernelspec": {
   "display_name": "Python 3",
   "language": "python",
   "name": "python3"
  },
  "language_info": {
   "codemirror_mode": {
    "name": "ipython",
    "version": 3
   },
   "file_extension": ".py",
   "mimetype": "text/x-python",
   "name": "python",
   "nbconvert_exporter": "python",
   "pygments_lexer": "ipython3",
   "version": "3.5.1"
  },
  "name": "",
  "signature": "sha256:99577380fdf27b91b0ff00319d583160736c7b4cd20b0aaaafabdc0be6d2259d"
 },
 "nbformat": 3,
 "nbformat_minor": 0,
 "worksheets": [
  {
   "cells": [
    {
     "cell_type": "markdown",
     "metadata": {
      "slideshow": {
       "slide_type": "-"
      }
     },
     "source": [
      "\n",
      "## Introduction au Machine Learning \n"
     ]
    },
    {
     "cell_type": "markdown",
     "metadata": {},
     "source": [
      "Dans ce notebook, on illustre l'int\u00e9r\u00eat des for\u00eats al\u00e9atoires et du boosting en utilisant les donn\u00e9es du challenge Kaggle intitul\u00e9 `Give Me Some Credit`"
     ]
    },
    {
     "cell_type": "heading",
     "level": 2,
     "metadata": {},
     "source": [
      "0. Pr\u00e9liminaires"
     ]
    },
    {
     "cell_type": "code",
     "collapsed": true,
     "input": [
      "%matplotlib inline\n",
      "from sklearn import neighbors, datasets\n",
      "import warnings\n",
      "warnings.filterwarnings('ignore')"
     ],
     "language": "python",
     "metadata": {},
     "outputs": [],
     "prompt_number": 14
    },
    {
     "cell_type": "heading",
     "level": 2,
     "metadata": {},
     "source": [
      "1. Chargement des donn\u00e9es"
     ]
    },
    {
     "cell_type": "markdown",
     "metadata": {},
     "source": [
      "Il existe plusieurs mani\u00e8res de charger un fichier csv en m\u00e9moire avec Python. Ici on utilisera directement une des plus puissantes pour arriver \u00e0 un r\u00e9sultat qui soit tr\u00e8s proche de ce qu'on \u00e9crit en R : on utilise la librairie [pandas](http://pandas.pydata.org)"
     ]
    },
    {
     "cell_type": "code",
     "collapsed": false,
     "input": [
      "import pandas as pd\n",
      "\n",
      "datapath = \"../givemesomecredit/\"\n",
      "trainf = \"cs-training.csv\"\n",
      "#testf = \"cs-test.csv\"\n",
      "dataf = datapath + trainf\n",
      "#testf = datapath + testf"
     ],
     "language": "python",
     "metadata": {},
     "outputs": [],
     "prompt_number": 18
    },
    {
     "cell_type": "code",
     "collapsed": false,
     "input": [
      "dataf"
     ],
     "language": "python",
     "metadata": {},
     "outputs": [
      {
       "metadata": {},
       "output_type": "pyout",
       "prompt_number": 19,
       "text": [
        "'../givemesomecredit/cs-training.csv'"
       ]
      }
     ],
     "prompt_number": 19
    },
    {
     "cell_type": "code",
     "collapsed": true,
     "input": [
      "pd.read_csv(dataf)"
     ],
     "language": "python",
     "metadata": {},
     "outputs": [
      {
       "ename": "IOError",
       "evalue": "File ../givemesomecredit/cs-training.csv does not exist",
       "output_type": "pyerr",
       "traceback": [
        "\u001b[0;31m---------------------------------------------------------------------------\u001b[0m\n\u001b[0;31mIOError\u001b[0m                                   Traceback (most recent call last)",
        "\u001b[0;32m<ipython-input-20-194bb9d30386>\u001b[0m in \u001b[0;36m<module>\u001b[0;34m()\u001b[0m\n\u001b[0;32m----> 1\u001b[0;31m \u001b[0mpd\u001b[0m\u001b[0;34m.\u001b[0m\u001b[0mread_csv\u001b[0m\u001b[0;34m(\u001b[0m\u001b[0mdataf\u001b[0m\u001b[0;34m)\u001b[0m\u001b[0;34m\u001b[0m\u001b[0m\n\u001b[0m",
        "\u001b[0;32m/usr/local/lib/python2.7/dist-packages/pandas/io/parsers.pyc\u001b[0m in \u001b[0;36mparser_f\u001b[0;34m(filepath_or_buffer, sep, delimiter, header, names, index_col, usecols, squeeze, prefix, mangle_dupe_cols, dtype, engine, converters, true_values, false_values, skipinitialspace, skiprows, nrows, na_values, keep_default_na, na_filter, verbose, skip_blank_lines, parse_dates, infer_datetime_format, keep_date_col, date_parser, dayfirst, iterator, chunksize, compression, thousands, decimal, lineterminator, quotechar, quoting, escapechar, comment, encoding, dialect, tupleize_cols, error_bad_lines, warn_bad_lines, skipfooter, skip_footer, doublequote, delim_whitespace, as_recarray, compact_ints, use_unsigned, low_memory, buffer_lines, memory_map, float_precision)\u001b[0m\n\u001b[1;32m    644\u001b[0m                     skip_blank_lines=skip_blank_lines)\n\u001b[1;32m    645\u001b[0m \u001b[0;34m\u001b[0m\u001b[0m\n\u001b[0;32m--> 646\u001b[0;31m         \u001b[0;32mreturn\u001b[0m \u001b[0m_read\u001b[0m\u001b[0;34m(\u001b[0m\u001b[0mfilepath_or_buffer\u001b[0m\u001b[0;34m,\u001b[0m \u001b[0mkwds\u001b[0m\u001b[0;34m)\u001b[0m\u001b[0;34m\u001b[0m\u001b[0m\n\u001b[0m\u001b[1;32m    647\u001b[0m \u001b[0;34m\u001b[0m\u001b[0m\n\u001b[1;32m    648\u001b[0m     \u001b[0mparser_f\u001b[0m\u001b[0;34m.\u001b[0m\u001b[0m__name__\u001b[0m \u001b[0;34m=\u001b[0m \u001b[0mname\u001b[0m\u001b[0;34m\u001b[0m\u001b[0m\n",
        "\u001b[0;32m/usr/local/lib/python2.7/dist-packages/pandas/io/parsers.pyc\u001b[0m in \u001b[0;36m_read\u001b[0;34m(filepath_or_buffer, kwds)\u001b[0m\n\u001b[1;32m    387\u001b[0m \u001b[0;34m\u001b[0m\u001b[0m\n\u001b[1;32m    388\u001b[0m     \u001b[0;31m# Create the parser.\u001b[0m\u001b[0;34m\u001b[0m\u001b[0;34m\u001b[0m\u001b[0m\n\u001b[0;32m--> 389\u001b[0;31m     \u001b[0mparser\u001b[0m \u001b[0;34m=\u001b[0m \u001b[0mTextFileReader\u001b[0m\u001b[0;34m(\u001b[0m\u001b[0mfilepath_or_buffer\u001b[0m\u001b[0;34m,\u001b[0m \u001b[0;34m**\u001b[0m\u001b[0mkwds\u001b[0m\u001b[0;34m)\u001b[0m\u001b[0;34m\u001b[0m\u001b[0m\n\u001b[0m\u001b[1;32m    390\u001b[0m \u001b[0;34m\u001b[0m\u001b[0m\n\u001b[1;32m    391\u001b[0m     \u001b[0;32mif\u001b[0m \u001b[0;34m(\u001b[0m\u001b[0mnrows\u001b[0m \u001b[0;32mis\u001b[0m \u001b[0;32mnot\u001b[0m \u001b[0mNone\u001b[0m\u001b[0;34m)\u001b[0m \u001b[0;32mand\u001b[0m \u001b[0;34m(\u001b[0m\u001b[0mchunksize\u001b[0m \u001b[0;32mis\u001b[0m \u001b[0;32mnot\u001b[0m \u001b[0mNone\u001b[0m\u001b[0;34m)\u001b[0m\u001b[0;34m:\u001b[0m\u001b[0;34m\u001b[0m\u001b[0m\n",
        "\u001b[0;32m/usr/local/lib/python2.7/dist-packages/pandas/io/parsers.pyc\u001b[0m in \u001b[0;36m__init__\u001b[0;34m(self, f, engine, **kwds)\u001b[0m\n\u001b[1;32m    728\u001b[0m             \u001b[0mself\u001b[0m\u001b[0;34m.\u001b[0m\u001b[0moptions\u001b[0m\u001b[0;34m[\u001b[0m\u001b[0;34m'has_index_names'\u001b[0m\u001b[0;34m]\u001b[0m \u001b[0;34m=\u001b[0m \u001b[0mkwds\u001b[0m\u001b[0;34m[\u001b[0m\u001b[0;34m'has_index_names'\u001b[0m\u001b[0;34m]\u001b[0m\u001b[0;34m\u001b[0m\u001b[0m\n\u001b[1;32m    729\u001b[0m \u001b[0;34m\u001b[0m\u001b[0m\n\u001b[0;32m--> 730\u001b[0;31m         \u001b[0mself\u001b[0m\u001b[0;34m.\u001b[0m\u001b[0m_make_engine\u001b[0m\u001b[0;34m(\u001b[0m\u001b[0mself\u001b[0m\u001b[0;34m.\u001b[0m\u001b[0mengine\u001b[0m\u001b[0;34m)\u001b[0m\u001b[0;34m\u001b[0m\u001b[0m\n\u001b[0m\u001b[1;32m    731\u001b[0m \u001b[0;34m\u001b[0m\u001b[0m\n\u001b[1;32m    732\u001b[0m     \u001b[0;32mdef\u001b[0m \u001b[0mclose\u001b[0m\u001b[0;34m(\u001b[0m\u001b[0mself\u001b[0m\u001b[0;34m)\u001b[0m\u001b[0;34m:\u001b[0m\u001b[0;34m\u001b[0m\u001b[0m\n",
        "\u001b[0;32m/usr/local/lib/python2.7/dist-packages/pandas/io/parsers.pyc\u001b[0m in \u001b[0;36m_make_engine\u001b[0;34m(self, engine)\u001b[0m\n\u001b[1;32m    921\u001b[0m     \u001b[0;32mdef\u001b[0m \u001b[0m_make_engine\u001b[0m\u001b[0;34m(\u001b[0m\u001b[0mself\u001b[0m\u001b[0;34m,\u001b[0m \u001b[0mengine\u001b[0m\u001b[0;34m=\u001b[0m\u001b[0;34m'c'\u001b[0m\u001b[0;34m)\u001b[0m\u001b[0;34m:\u001b[0m\u001b[0;34m\u001b[0m\u001b[0m\n\u001b[1;32m    922\u001b[0m         \u001b[0;32mif\u001b[0m \u001b[0mengine\u001b[0m \u001b[0;34m==\u001b[0m \u001b[0;34m'c'\u001b[0m\u001b[0;34m:\u001b[0m\u001b[0;34m\u001b[0m\u001b[0m\n\u001b[0;32m--> 923\u001b[0;31m             \u001b[0mself\u001b[0m\u001b[0;34m.\u001b[0m\u001b[0m_engine\u001b[0m \u001b[0;34m=\u001b[0m \u001b[0mCParserWrapper\u001b[0m\u001b[0;34m(\u001b[0m\u001b[0mself\u001b[0m\u001b[0;34m.\u001b[0m\u001b[0mf\u001b[0m\u001b[0;34m,\u001b[0m \u001b[0;34m**\u001b[0m\u001b[0mself\u001b[0m\u001b[0;34m.\u001b[0m\u001b[0moptions\u001b[0m\u001b[0;34m)\u001b[0m\u001b[0;34m\u001b[0m\u001b[0m\n\u001b[0m\u001b[1;32m    924\u001b[0m         \u001b[0;32melse\u001b[0m\u001b[0;34m:\u001b[0m\u001b[0;34m\u001b[0m\u001b[0m\n\u001b[1;32m    925\u001b[0m             \u001b[0;32mif\u001b[0m \u001b[0mengine\u001b[0m \u001b[0;34m==\u001b[0m \u001b[0;34m'python'\u001b[0m\u001b[0;34m:\u001b[0m\u001b[0;34m\u001b[0m\u001b[0m\n",
        "\u001b[0;32m/usr/local/lib/python2.7/dist-packages/pandas/io/parsers.pyc\u001b[0m in \u001b[0;36m__init__\u001b[0;34m(self, src, **kwds)\u001b[0m\n\u001b[1;32m   1388\u001b[0m         \u001b[0mkwds\u001b[0m\u001b[0;34m[\u001b[0m\u001b[0;34m'allow_leading_cols'\u001b[0m\u001b[0;34m]\u001b[0m \u001b[0;34m=\u001b[0m \u001b[0mself\u001b[0m\u001b[0;34m.\u001b[0m\u001b[0mindex_col\u001b[0m \u001b[0;32mis\u001b[0m \u001b[0;32mnot\u001b[0m \u001b[0mFalse\u001b[0m\u001b[0;34m\u001b[0m\u001b[0m\n\u001b[1;32m   1389\u001b[0m \u001b[0;34m\u001b[0m\u001b[0m\n\u001b[0;32m-> 1390\u001b[0;31m         \u001b[0mself\u001b[0m\u001b[0;34m.\u001b[0m\u001b[0m_reader\u001b[0m \u001b[0;34m=\u001b[0m \u001b[0m_parser\u001b[0m\u001b[0;34m.\u001b[0m\u001b[0mTextReader\u001b[0m\u001b[0;34m(\u001b[0m\u001b[0msrc\u001b[0m\u001b[0;34m,\u001b[0m \u001b[0;34m**\u001b[0m\u001b[0mkwds\u001b[0m\u001b[0;34m)\u001b[0m\u001b[0;34m\u001b[0m\u001b[0m\n\u001b[0m\u001b[1;32m   1391\u001b[0m \u001b[0;34m\u001b[0m\u001b[0m\n\u001b[1;32m   1392\u001b[0m         \u001b[0;31m# XXX\u001b[0m\u001b[0;34m\u001b[0m\u001b[0;34m\u001b[0m\u001b[0m\n",
        "\u001b[0;32m/usr/local/lib/python2.7/dist-packages/pandas/parser.so\u001b[0m in \u001b[0;36mpandas.parser.TextReader.__cinit__ (pandas/parser.c:4184)\u001b[0;34m()\u001b[0m\n",
        "\u001b[0;32m/usr/local/lib/python2.7/dist-packages/pandas/parser.so\u001b[0m in \u001b[0;36mpandas.parser.TextReader._setup_parser_source (pandas/parser.c:8449)\u001b[0;34m()\u001b[0m\n",
        "\u001b[0;31mIOError\u001b[0m: File ../givemesomecredit/cs-training.csv does not exist"
       ]
      }
     ],
     "prompt_number": 20
    },
    {
     "cell_type": "markdown",
     "metadata": {},
     "source": [
      "On se rend compte que [pandas](http://pandas.pydata.org) cr\u00e9e automatiquement une colonne index qui fait double emploi avec la colonne anonyme du fichier csv.\n",
      "\n",
      "On d\u00e9cide donc d'utiliser directement cette colonne comme index."
     ]
    },
    {
     "cell_type": "code",
     "collapsed": true,
     "input": [
      "pd.read_csv(dataf,index_col=0)"
     ],
     "language": "python",
     "metadata": {},
     "outputs": []
    },
    {
     "cell_type": "markdown",
     "metadata": {},
     "source": [
      "On enregistre le r\u00e9sultat dans `train`. Comme dans le code R."
     ]
    },
    {
     "cell_type": "code",
     "collapsed": false,
     "input": [
      "train = pd.read_csv(dataf,index_col=0)\n",
      "features_names = list(train)[1:]\n",
      "test = pd.read_csv(testf,index_col=0)\n",
      "np.savetxt('fuckingtest.csv', test, delimiter =',')"
     ],
     "language": "python",
     "metadata": {},
     "outputs": []
    },
    {
     "cell_type": "code",
     "collapsed": true,
     "input": [
      "features_names"
     ],
     "language": "python",
     "metadata": {},
     "outputs": []
    },
    {
     "cell_type": "markdown",
     "metadata": {},
     "source": [
      "Mais au fait, quel est la classe de cet objet ? ...\n",
      "Facile, en python, comme en R, on peut utiliser le REPL pour r\u00e9pondre \u00e0 ce genre de question"
     ]
    },
    {
     "cell_type": "code",
     "collapsed": false,
     "input": [
      "type(train)"
     ],
     "language": "python",
     "metadata": {},
     "outputs": []
    },
    {
     "cell_type": "code",
     "collapsed": false,
     "input": [
      "train.dtypes"
     ],
     "language": "python",
     "metadata": {},
     "outputs": []
    },
    {
     "cell_type": "heading",
     "level": 2,
     "metadata": {},
     "source": [
      "2. Pr\u00e9paration des folds"
     ]
    },
    {
     "cell_type": "markdown",
     "metadata": {},
     "source": [
      "On pourrait utiliser [`sklearn.cross_validation`](http://scikit-learn.org/stable/modules/cross_validation.html#k-fold) pour pr\u00e9parer les folds mais on le fait \"\u00e0 la main\" pour cette premi\u00e8re fois."
     ]
    },
    {
     "cell_type": "code",
     "collapsed": false,
     "input": [
      "import random\n",
      "def kfolds(k,N,seed=None):\n",
      "    random.seed(seed)\n",
      "    out = [ list() for _ in range(k) ]\n",
      "    for n in range(N): \n",
      "        out[random.randrange(k)].append(n)\n",
      "    return(out)\n",
      "\n",
      "K = kfolds(seed=3894,k=5,N=len(train))\n",
      "fold1 = sum(K[1:5],[]) # K[1] + K[2] + K[3] + K[4]\n",
      "\n",
      "xtrain = train.iloc[fold1][train.keys()[1:]]\n",
      "ytrain = train.iloc[fold1][train.keys()[0]]\n",
      "#xtestfinal = test.iloc[:][test.keys()[1:]]\n",
      "#ytestfinal = test.iloc[:][test.keys()[0]]"
     ],
     "language": "python",
     "metadata": {},
     "outputs": []
    },
    {
     "cell_type": "markdown",
     "metadata": {},
     "source": [
      "On n'affiche pas K dans la mesure o\u00f9 N est relativement grand pour \u00eatre affich\u00e9 (15 000)"
     ]
    },
    {
     "cell_type": "heading",
     "level": 2,
     "metadata": {
      "slideshow": {
       "slide_type": "-"
      }
     },
     "source": [
      "3. Imputation des donn\u00e9es manquantes"
     ]
    },
    {
     "cell_type": "markdown",
     "metadata": {},
     "source": [
      "Le code suivant remplace tous les NaN par la m\u00e9diane de la colonne correspondante. C'est une strat\u00e9gie un peu diff\u00e9rente du code `gbm` en R."
     ]
    },
    {
     "cell_type": "code",
     "collapsed": false,
     "input": [
      "from sklearn.preprocessing import Imputer\n",
      "imp = Imputer(missing_values='NaN', strategy='median', axis=0)\n",
      "t = Imputer(missing_values='NaN', strategy='median', axis=0)\n",
      "train = imp.fit_transform(train)\n",
      "test = t.fit_transform(test)\n",
      "\n",
      "xtrain = train[fold1,1:]\n",
      "ytrain = train[fold1,0]\n",
      "xtest = train[K[0],1:]\n",
      "xtestfinal = test[:,0:]\n",
      "ytest = train[K[0],0]"
     ],
     "language": "python",
     "metadata": {},
     "outputs": [
      {
       "ename": "NameError",
       "evalue": "name 'train' is not defined",
       "output_type": "pyerr",
       "traceback": [
        "\u001b[0;31m---------------------------------------------------------------------------\u001b[0m\n\u001b[0;31mNameError\u001b[0m                                 Traceback (most recent call last)",
        "\u001b[0;32m<ipython-input-8-548683dcee08>\u001b[0m in \u001b[0;36m<module>\u001b[0;34m()\u001b[0m\n\u001b[1;32m      2\u001b[0m \u001b[0mimp\u001b[0m \u001b[0;34m=\u001b[0m \u001b[0mImputer\u001b[0m\u001b[0;34m(\u001b[0m\u001b[0mmissing_values\u001b[0m\u001b[0;34m=\u001b[0m\u001b[0;34m'NaN'\u001b[0m\u001b[0;34m,\u001b[0m \u001b[0mstrategy\u001b[0m\u001b[0;34m=\u001b[0m\u001b[0;34m'median'\u001b[0m\u001b[0;34m,\u001b[0m \u001b[0maxis\u001b[0m\u001b[0;34m=\u001b[0m\u001b[0;36m0\u001b[0m\u001b[0;34m)\u001b[0m\u001b[0;34m\u001b[0m\u001b[0m\n\u001b[1;32m      3\u001b[0m \u001b[0mt\u001b[0m \u001b[0;34m=\u001b[0m \u001b[0mImputer\u001b[0m\u001b[0;34m(\u001b[0m\u001b[0mmissing_values\u001b[0m\u001b[0;34m=\u001b[0m\u001b[0;34m'NaN'\u001b[0m\u001b[0;34m,\u001b[0m \u001b[0mstrategy\u001b[0m\u001b[0;34m=\u001b[0m\u001b[0;34m'median'\u001b[0m\u001b[0;34m,\u001b[0m \u001b[0maxis\u001b[0m\u001b[0;34m=\u001b[0m\u001b[0;36m0\u001b[0m\u001b[0;34m)\u001b[0m\u001b[0;34m\u001b[0m\u001b[0m\n\u001b[0;32m----> 4\u001b[0;31m \u001b[0mtrain\u001b[0m \u001b[0;34m=\u001b[0m \u001b[0mimp\u001b[0m\u001b[0;34m.\u001b[0m\u001b[0mfit_transform\u001b[0m\u001b[0;34m(\u001b[0m\u001b[0mtrain\u001b[0m\u001b[0;34m)\u001b[0m\u001b[0;34m\u001b[0m\u001b[0m\n\u001b[0m\u001b[1;32m      5\u001b[0m \u001b[0mtest\u001b[0m \u001b[0;34m=\u001b[0m \u001b[0mt\u001b[0m\u001b[0;34m.\u001b[0m\u001b[0mfit_transform\u001b[0m\u001b[0;34m(\u001b[0m\u001b[0mtest\u001b[0m\u001b[0;34m)\u001b[0m\u001b[0;34m\u001b[0m\u001b[0m\n\u001b[1;32m      6\u001b[0m \u001b[0;34m\u001b[0m\u001b[0m\n",
        "\u001b[0;31mNameError\u001b[0m: name 'train' is not defined"
       ]
      }
     ],
     "prompt_number": 8
    },
    {
     "cell_type": "heading",
     "level": 2,
     "metadata": {},
     "source": [
      "4. Fonction de renvoie de resultat"
     ]
    },
    {
     "cell_type": "markdown",
     "metadata": {},
     "source": [
      "Enregistre dans un fichier csv les resultats"
     ]
    },
    {
     "cell_type": "code",
     "collapsed": false,
     "input": [
      "def renvoie(Zfinal):\n",
      "    l = [int(i) for i in range(1,len(Zfinal)+1)]\n",
      "    print(type(l[1]))\n",
      "    #l.insert(0,\"Id\")\n",
      "    #l = array(l)\n",
      "    #Zfinal = np.array([l,Zfinal])\n",
      "    #Zfinal = Zfinal.tolist()\n",
      "    #Zfinal = Zfinal.insert(0,\"Probability\")\n",
      "    #Zfinal = np.array(Zfinal)\n",
      "    #\n",
      "    print(len(Zfinal))\n",
      "    print(len(l))\n",
      "    #Zfinal.insert(0,\"Probability\")\n",
      "\n",
      "    a = [ [l[i],Zfinal[i]] for i in range (0,len(Zfinal))]\n",
      "    #a.insert(0,\"Probability\")\n",
      "    Zfinal2 = [Zfinal,l]\n",
      "    \n",
      "    df = pd.DataFrame(data=a)\n",
      "    print(df)\n",
      "    np.savetxt('preds.csv', df, delimiter =',')\n"
     ],
     "language": "python",
     "metadata": {},
     "outputs": [],
     "prompt_number": 9
    },
    {
     "cell_type": "heading",
     "level": 2,
     "metadata": {},
     "source": [
      "5. GLM"
     ]
    },
    {
     "cell_type": "code",
     "collapsed": false,
     "input": [
      "from sklearn.linear_model import LogisticRegression\n",
      "lr = LogisticRegression(penalty='l2',solver='liblinear',max_iter = 200, tol = 0.00001)\n",
      "lr.fit(xtrain,ytrain)"
     ],
     "language": "python",
     "metadata": {},
     "outputs": [
      {
       "ename": "NameError",
       "evalue": "name 'xtrain' is not defined",
       "output_type": "pyerr",
       "traceback": [
        "\u001b[0;31m---------------------------------------------------------------------------\u001b[0m\n\u001b[0;31mNameError\u001b[0m                                 Traceback (most recent call last)",
        "\u001b[0;32m<ipython-input-10-b4962a7c194b>\u001b[0m in \u001b[0;36m<module>\u001b[0;34m()\u001b[0m\n\u001b[1;32m      1\u001b[0m \u001b[0;32mfrom\u001b[0m \u001b[0msklearn\u001b[0m\u001b[0;34m.\u001b[0m\u001b[0mlinear_model\u001b[0m \u001b[0;32mimport\u001b[0m \u001b[0mLogisticRegression\u001b[0m\u001b[0;34m\u001b[0m\u001b[0m\n\u001b[1;32m      2\u001b[0m \u001b[0mlr\u001b[0m \u001b[0;34m=\u001b[0m \u001b[0mLogisticRegression\u001b[0m\u001b[0;34m(\u001b[0m\u001b[0mpenalty\u001b[0m\u001b[0;34m=\u001b[0m\u001b[0;34m'l2'\u001b[0m\u001b[0;34m,\u001b[0m\u001b[0msolver\u001b[0m\u001b[0;34m=\u001b[0m\u001b[0;34m'liblinear'\u001b[0m\u001b[0;34m,\u001b[0m\u001b[0mmax_iter\u001b[0m \u001b[0;34m=\u001b[0m \u001b[0;36m200\u001b[0m\u001b[0;34m,\u001b[0m \u001b[0mtol\u001b[0m \u001b[0;34m=\u001b[0m \u001b[0;36m0.00001\u001b[0m\u001b[0;34m)\u001b[0m\u001b[0;34m\u001b[0m\u001b[0m\n\u001b[0;32m----> 3\u001b[0;31m \u001b[0mlr\u001b[0m\u001b[0;34m.\u001b[0m\u001b[0mfit\u001b[0m\u001b[0;34m(\u001b[0m\u001b[0mxtrain\u001b[0m\u001b[0;34m,\u001b[0m\u001b[0mytrain\u001b[0m\u001b[0;34m)\u001b[0m\u001b[0;34m\u001b[0m\u001b[0m\n\u001b[0m",
        "\u001b[0;31mNameError\u001b[0m: name 'xtrain' is not defined"
       ]
      }
     ],
     "prompt_number": 10
    },
    {
     "cell_type": "markdown",
     "metadata": {},
     "source": [
      "On calcule le score sur le fold restant"
     ]
    },
    {
     "cell_type": "code",
     "collapsed": false,
     "input": [
      "from sklearn.metrics import roc_auc_score, log_loss\n",
      "lr_preds = lr.predict_proba(xtest)[:,1]\n",
      "print(lr_preds)\n",
      "print(len(lr_preds))\n",
      "print(\"auc:      {}\".format(roc_auc_score(ytest, lr_preds)))\n",
      "a = 0.0\n",
      "limite = 0.5\n",
      "#print(len(xtest))\n",
      "for i in range (0,len(xtest)):\n",
      "    if(((ytest[i]==1) & (lr_preds[i]>limite)) |((ytest[i]==0) & (lr_preds[i]<limite))):\n",
      "        a = a + 1.0\n",
      "a = a/float(len(xtest))\n",
      "print(a)\n",
      "print(\"log_loss: {}\".format(log_loss(ytest,lr_preds)))"
     ],
     "language": "python",
     "metadata": {},
     "outputs": []
    },
    {
     "cell_type": "markdown",
     "metadata": {
      "collapsed": true
     },
     "source": [
      "On peut vouloir stocker les pr\u00e9dictions sur disque sous forme de fichier csv"
     ]
    },
    {
     "cell_type": "code",
     "collapsed": false,
     "input": [
      "import numpy as np\n",
      "np.savetxt('preds.csv', lr_preds, delimiter =',')"
     ],
     "language": "python",
     "metadata": {},
     "outputs": [
      {
       "ename": "NameError",
       "evalue": "name 'lr_preds' is not defined",
       "output_type": "pyerr",
       "traceback": [
        "\u001b[0;31m---------------------------------------------------------------------------\u001b[0m\n\u001b[0;31mNameError\u001b[0m                                 Traceback (most recent call last)",
        "\u001b[0;32m<ipython-input-11-b4c790abae06>\u001b[0m in \u001b[0;36m<module>\u001b[0;34m()\u001b[0m\n\u001b[1;32m      1\u001b[0m \u001b[0;32mimport\u001b[0m \u001b[0mnumpy\u001b[0m \u001b[0;32mas\u001b[0m \u001b[0mnp\u001b[0m\u001b[0;34m\u001b[0m\u001b[0m\n\u001b[0;32m----> 2\u001b[0;31m \u001b[0mnp\u001b[0m\u001b[0;34m.\u001b[0m\u001b[0msavetxt\u001b[0m\u001b[0;34m(\u001b[0m\u001b[0;34m'preds.csv'\u001b[0m\u001b[0;34m,\u001b[0m \u001b[0mlr_preds\u001b[0m\u001b[0;34m,\u001b[0m \u001b[0mdelimiter\u001b[0m \u001b[0;34m=\u001b[0m\u001b[0;34m','\u001b[0m\u001b[0;34m)\u001b[0m\u001b[0;34m\u001b[0m\u001b[0m\n\u001b[0m",
        "\u001b[0;31mNameError\u001b[0m: name 'lr_preds' is not defined"
       ]
      }
     ],
     "prompt_number": 11
    },
    {
     "cell_type": "heading",
     "level": 2,
     "metadata": {},
     "source": [
      "5. K plus proches voisins"
     ]
    },
    {
     "cell_type": "markdown",
     "metadata": {},
     "source": [
      "Premiere approche : comprehension et reduction de dimension pour obtenir un graphe\n",
      "On ne cherchera pas dans un premier temps \u00e0 faire un programme efficace, mais simple a s'assurer qu'il se met en oeuvre correctement."
     ]
    },
    {
     "cell_type": "code",
     "collapsed": false,
     "input": [
      "print(__doc__)\n",
      "\n",
      "import numpy as np\n",
      "import matplotlib.pyplot as plt\n",
      "from matplotlib.colors import ListedColormap\n",
      "from sklearn import neighbors, datasets\n",
      "\n",
      "n_neighbors = 1 # On regarde uniquement le voisin le plus proche\n",
      "\n",
      "X= xtrain[:,1:5:3] #Ici on prend que deux colonnes pour pouvoir le repr\u00e9senter. L'age et les revenus ici.\n",
      "y = ytrain\n",
      "\n",
      "nbreapprentissage = 100 # On prend des valeurs faibles pour ne pas surcharger le graphique\n",
      "\n",
      "X = X[0:nbreapprentissage]\n",
      "y = y[0:nbreapprentissage]\n",
      "\n",
      "nbretest = 10 # On fait de m\u00eame pour la base de test\n",
      "\n",
      "x_test = xtest[:,1:5:3]\n",
      "x_test = x_test[0:nbretest-1]\n",
      "y_test = ytest[0:nbretest-1]\n",
      "\n",
      "\n",
      "\n",
      "h = .02  # TODO A regarder quand j aurais internet...\n",
      "\n",
      "\n",
      "\n",
      "# On va tester les deux methodes. Uniform regarde la classe laplus presente parmis les n_neighbors plus proches voisins.\n",
      "# Distance va regarder aussi les distances des plus proches voisins et ponderer l importance en fonction de leurs eloigement au point teste.\n",
      "for weights in ['uniform', 'distance']:\n",
      "\n",
      "    # Comment qui fait la classification\n",
      "    clf = neighbors.KNeighborsClassifier(n_neighbors, weights=weights)\n",
      "    clf.fit(X, y)\n",
      "\n",
      "    # Predit en fonction de la base de donne les valeurs des tests\n",
      "    Z = clf.predict(x_test)\n",
      "    \n",
      "    # Le reste du code n'est pas tres interessant et sert juste a afficher le graphes correctement avec les couleurs\n",
      "    x_min, x_max = X[:, 0].min() - 1, X[:, 0].max() + 1\n",
      "    y_min, y_max = X[:, 1].min() - 1, X[:, 1].max() + 1\n",
      "    plt.figure()\n",
      "    cmap_bold = ListedColormap(['#FF0000', '#00FF00', '#0000FF'])\n",
      "    plt.scatter(X[:, 0], X[:, 1], c=y, cmap=cmap_bold)\n",
      "    plt.xlim(x_min, x_max)\n",
      "    plt.ylim(y_min, y_max)\n",
      "    plt.title(\"3-Class classification (k = %i, weights = '%s')\"\n",
      "              % (n_neighbors, weights))\n",
      "    for i in range(0,nbretest-1):\n",
      "        if(Z[i] == 0):\n",
      "            plt.plot(x_test[i][0], x_test[i][1], 'bs',color ='#FFAAAA')\n",
      "        else:\n",
      "            plt.plot(x_test[i][0], x_test[i][1], 'bs',color ='#AAAAFF')\n",
      "\n",
      "\n",
      "plt.show()"
     ],
     "language": "python",
     "metadata": {},
     "outputs": [
      {
       "output_type": "stream",
       "stream": "stdout",
       "text": [
        "Automatically created module for IPython interactive environment\n"
       ]
      },
      {
       "ename": "NameError",
       "evalue": "name 'xtrain' is not defined",
       "output_type": "pyerr",
       "traceback": [
        "\u001b[0;31m---------------------------------------------------------------------------\u001b[0m\n\u001b[0;31mNameError\u001b[0m                                 Traceback (most recent call last)",
        "\u001b[0;32m<ipython-input-12-639c2e63af3b>\u001b[0m in \u001b[0;36m<module>\u001b[0;34m()\u001b[0m\n\u001b[1;32m      8\u001b[0m \u001b[0mn_neighbors\u001b[0m \u001b[0;34m=\u001b[0m \u001b[0;36m1\u001b[0m \u001b[0;31m# On regarde uniquement le voisin le plus proche\u001b[0m\u001b[0;34m\u001b[0m\u001b[0m\n\u001b[1;32m      9\u001b[0m \u001b[0;34m\u001b[0m\u001b[0m\n\u001b[0;32m---> 10\u001b[0;31m \u001b[0mX\u001b[0m\u001b[0;34m=\u001b[0m \u001b[0mxtrain\u001b[0m\u001b[0;34m[\u001b[0m\u001b[0;34m:\u001b[0m\u001b[0;34m,\u001b[0m\u001b[0;36m1\u001b[0m\u001b[0;34m:\u001b[0m\u001b[0;36m5\u001b[0m\u001b[0;34m:\u001b[0m\u001b[0;36m3\u001b[0m\u001b[0;34m]\u001b[0m \u001b[0;31m#Ici on prend que deux colonnes pour pouvoir le repr\u00e9senter. L'age et les revenus ici.\u001b[0m\u001b[0;34m\u001b[0m\u001b[0m\n\u001b[0m\u001b[1;32m     11\u001b[0m \u001b[0my\u001b[0m \u001b[0;34m=\u001b[0m \u001b[0mytrain\u001b[0m\u001b[0;34m\u001b[0m\u001b[0m\n\u001b[1;32m     12\u001b[0m \u001b[0;34m\u001b[0m\u001b[0m\n",
        "\u001b[0;31mNameError\u001b[0m: name 'xtrain' is not defined"
       ]
      }
     ],
     "prompt_number": 12
    },
    {
     "cell_type": "markdown",
     "metadata": {},
     "source": [
      "En ordonn\u00e9e on a le revenu et en abscisse l'age. Heureusement qu'on n'utilise pas que ces deux informations... car \u00e0 l 'oeil, il nous semble pas possible de bien classer.\n",
      "Les ronds sont les exemples d'entrainements et les carr\u00e9s le test. Evidemment rouge correspond au label 0 et les bleu correspond au label 1\n",
      "\n",
      "On arrete de ce limiter a la dimension deux, et on utilise des fonctions pour calculer l erreur. Il faudra en plus d\u00e9terminer le bon K pour obtenir de meilleurs r\u00e9sultats."
     ]
    },
    {
     "cell_type": "markdown",
     "metadata": {},
     "source": [
      "La code qui suit va servir \u00e0 calculer la meilleur valeur de k. Pour des raisons de temps d'execution, je n'ai laiss\u00e9 ici que les valeurs proches de la valeur optimal. On trouve finalement k=182"
     ]
    },
    {
     "cell_type": "code",
     "collapsed": false,
     "input": [
      "print(__doc__)\n",
      "\n",
      "import numpy as np\n",
      "import matplotlib.pyplot as plt\n",
      "from sklearn import neighbors, datasets\n",
      "from sklearn.neighbors import KNeighborsClassifier\n",
      "\n",
      "\n",
      "def kPlusProcheVoisin(n_neighbors):\n",
      "    resultat = [0,0]\n",
      "    # On va tester les deux methodes. Uniform regarde la classe la plus presente parmis les n_neighbors plus proches voisins.\n",
      "    # Distance va regarder aussi les distances des plus proches voisins et ponderer l importance en fonction de leurs eloigement au point teste.\n",
      "    for weights in ['uniform', 'distance']:\n",
      "        # Comment qui fait la classification\n",
      "        #clf = neighbors.KNeighborsClassifier(n_neighbors, weights=weights)\n",
      "        clf = neighbors.KNeighborsClassifier(n_neighbors,weights=weights)\n",
      "\n",
      "        clf.fit(xtrain, ytrain)\n",
      "        # Predit en fonction de la base de donne les valeurs des tests\n",
      "        # Z = clf.predict(xtest)\n",
      "        Z = clf.predict_proba(xtest)\n",
      "        Z = [round(i[1], 5) for i in Z ]\n",
      "        if(weights == 'uniform'):\n",
      "            resultat[0] = format(roc_auc_score(ytest, Z))\n",
      "        else:\n",
      "            resultat[1] = format(roc_auc_score(ytest, Z)) \n",
      "    return(resultat)\n",
      "\n",
      "meilleurk = 0\n",
      "meilleurAUC = 0\n",
      "for i in [181,182,183]:\n",
      "    \n",
      "    resultat = kPlusProcheVoisin(i)\n",
      "    if(resultat[0] > meilleurAUC):\n",
      "        meilleurAUC = resultat[0]\n",
      "        meilleurk=i\n",
      "    if(resultat[1] > meilleurAUC):\n",
      "        meilleurAUC = resultat[1]\n",
      "        meilleurk=i\n",
      "    print(i)\n",
      "    print(resultat)\n",
      "   \n",
      "print(meilleurk)\n",
      "print(meilleurAUC)\n",
      "#print(\"nombre de personne qui ne vont reelement pas rembourser : \" + str(sum(Z)))\n",
      "\n",
      "#print(\"auc:      {}\".format(roc_auc_score(ytest, Z)))\n",
      "    "
     ],
     "language": "python",
     "metadata": {},
     "outputs": [
      {
       "output_type": "stream",
       "stream": "stdout",
       "text": [
        "Automatically created module for IPython interactive environment\n"
       ]
      },
      {
       "ename": "NameError",
       "evalue": "global name 'xtrain' is not defined",
       "output_type": "pyerr",
       "traceback": [
        "\u001b[0;31m---------------------------------------------------------------------------\u001b[0m\n\u001b[0;31mNameError\u001b[0m                                 Traceback (most recent call last)",
        "\u001b[0;32m<ipython-input-13-a5cedee85e34>\u001b[0m in \u001b[0;36m<module>\u001b[0;34m()\u001b[0m\n\u001b[1;32m     31\u001b[0m \u001b[0;32mfor\u001b[0m \u001b[0mi\u001b[0m \u001b[0;32min\u001b[0m \u001b[0;34m[\u001b[0m\u001b[0;36m181\u001b[0m\u001b[0;34m,\u001b[0m\u001b[0;36m182\u001b[0m\u001b[0;34m,\u001b[0m\u001b[0;36m183\u001b[0m\u001b[0;34m]\u001b[0m\u001b[0;34m:\u001b[0m\u001b[0;34m\u001b[0m\u001b[0m\n\u001b[1;32m     32\u001b[0m \u001b[0;34m\u001b[0m\u001b[0m\n\u001b[0;32m---> 33\u001b[0;31m     \u001b[0mresultat\u001b[0m \u001b[0;34m=\u001b[0m \u001b[0mkPlusProcheVoisin\u001b[0m\u001b[0;34m(\u001b[0m\u001b[0mi\u001b[0m\u001b[0;34m)\u001b[0m\u001b[0;34m\u001b[0m\u001b[0m\n\u001b[0m\u001b[1;32m     34\u001b[0m     \u001b[0;32mif\u001b[0m\u001b[0;34m(\u001b[0m\u001b[0mresultat\u001b[0m\u001b[0;34m[\u001b[0m\u001b[0;36m0\u001b[0m\u001b[0;34m]\u001b[0m \u001b[0;34m>\u001b[0m \u001b[0mmeilleurAUC\u001b[0m\u001b[0;34m)\u001b[0m\u001b[0;34m:\u001b[0m\u001b[0;34m\u001b[0m\u001b[0m\n\u001b[1;32m     35\u001b[0m         \u001b[0mmeilleurAUC\u001b[0m \u001b[0;34m=\u001b[0m \u001b[0mresultat\u001b[0m\u001b[0;34m[\u001b[0m\u001b[0;36m0\u001b[0m\u001b[0;34m]\u001b[0m\u001b[0;34m\u001b[0m\u001b[0m\n",
        "\u001b[0;32m<ipython-input-13-a5cedee85e34>\u001b[0m in \u001b[0;36mkPlusProcheVoisin\u001b[0;34m(n_neighbors)\u001b[0m\n\u001b[1;32m     16\u001b[0m         \u001b[0mclf\u001b[0m \u001b[0;34m=\u001b[0m \u001b[0mneighbors\u001b[0m\u001b[0;34m.\u001b[0m\u001b[0mKNeighborsClassifier\u001b[0m\u001b[0;34m(\u001b[0m\u001b[0mn_neighbors\u001b[0m\u001b[0;34m,\u001b[0m\u001b[0mweights\u001b[0m\u001b[0;34m=\u001b[0m\u001b[0mweights\u001b[0m\u001b[0;34m)\u001b[0m\u001b[0;34m\u001b[0m\u001b[0m\n\u001b[1;32m     17\u001b[0m \u001b[0;34m\u001b[0m\u001b[0m\n\u001b[0;32m---> 18\u001b[0;31m         \u001b[0mclf\u001b[0m\u001b[0;34m.\u001b[0m\u001b[0mfit\u001b[0m\u001b[0;34m(\u001b[0m\u001b[0mxtrain\u001b[0m\u001b[0;34m,\u001b[0m \u001b[0mytrain\u001b[0m\u001b[0;34m)\u001b[0m\u001b[0;34m\u001b[0m\u001b[0m\n\u001b[0m\u001b[1;32m     19\u001b[0m         \u001b[0;31m# Predit en fonction de la base de donne les valeurs des tests\u001b[0m\u001b[0;34m\u001b[0m\u001b[0;34m\u001b[0m\u001b[0m\n\u001b[1;32m     20\u001b[0m         \u001b[0;31m# Z = clf.predict(xtest)\u001b[0m\u001b[0;34m\u001b[0m\u001b[0;34m\u001b[0m\u001b[0m\n",
        "\u001b[0;31mNameError\u001b[0m: global name 'xtrain' is not defined"
       ]
      }
     ],
     "prompt_number": 13
    },
    {
     "cell_type": "markdown",
     "metadata": {},
     "source": [
      "On peut faire des remarques int\u00e9ressante. La m\u00e9thode des K plus proche voisin n'est pas tr\u00e8s optimiser pour cette \u00e9tude, car on veut un r\u00e9sultat qui correspond a une probabilit\u00e9 d'appartenance \u00e0 une classe. Or le syst\u00e8me des K plus proches voisins ne peut que classer de mani\u00e8re discr\u00e8te. Par exemple pour K = 5, on aura que 0;0,2:0,4;0,6;0,8;1 comme valeur possible. Ceci ne permet pas d'obtenir de tr\u00e8s bon r\u00e9sultat au vu de la m\u00e9thode de test qui est l'AUC. En revanche quand K devient assez grand, ici autour de 200, ce probl\u00e8me commence \u00e0 \u00eatre n\u00e9gligeable."
     ]
    },
    {
     "cell_type": "code",
     "collapsed": false,
     "input": [
      "n_neighbors = 182\n",
      "clf = neighbors.KNeighborsClassifier(n_neighbors,weights='distance')\n",
      "clf.fit(xtrain, ytrain)\n",
      "\n",
      "Z = clf.predict_proba(xtest)\n",
      "Z = [round(i[1], 5) for i in Z ]\n",
      "      \n",
      "print(\"auc:      {}\".format(roc_auc_score(ytest, Z)))\n",
      "\n",
      "Zfinal = clf.predict_proba(xtestfinal)\n",
      "Zfinal = [round(i[1], 5) for i in Zfinal ]\n",
      "renvoie(Zfinal)"
     ],
     "language": "python",
     "metadata": {},
     "outputs": [
      {
       "output_type": "stream",
       "stream": "stdout",
       "text": [
        "auc:      0.656527750295\n",
        "<type 'int'>"
       ]
      },
      {
       "output_type": "stream",
       "stream": "stdout",
       "text": [
        "\n",
        "101503\n",
        "101503\n",
        "             0        1\n",
        "0            1  0.07959\n",
        "1            2  0.02642\n",
        "2            3  0.05718\n",
        "3            4  0.13066\n",
        "4            5  0.11200\n",
        "5            6  0.06934\n",
        "6            7  0.04274\n",
        "7            8  0.04908\n",
        "8            9  0.01949\n",
        "9           10  0.27190\n",
        "10          11  0.07156\n",
        "11          12  0.05952\n",
        "12          13  0.02000\n",
        "13          14  0.07509\n",
        "14          15  0.04163\n",
        "15          16  0.04135\n",
        "16          17  0.05382\n",
        "17          18  0.07703\n",
        "18          19  0.09294\n",
        "19          20  0.10193\n",
        "20          21  0.04141\n",
        "21          22  0.03118\n",
        "22          23  0.04095\n",
        "23          24  0.04995\n",
        "24          25  0.07918\n",
        "25          26  0.07167\n",
        "26          27  0.11129\n",
        "27          28  0.05318\n",
        "28          29  0.04564\n",
        "29          30  0.05058\n",
        "...        ...      ...\n",
        "101473  101474  0.03074\n",
        "101474  101475  0.08382\n",
        "101475  101476  0.12456\n",
        "101476  101477  0.02997\n",
        "101477  101478  0.01389\n",
        "101478  101479  0.05828\n",
        "101479  101480  0.06600\n",
        "101480  101481  0.09540\n",
        "101481  101482  0.06253\n",
        "101482  101483  0.25418\n",
        "101483  101484  0.03302\n",
        "101484  101485  0.04828\n",
        "101485  101486  0.03783\n",
        "101486  101487  0.09535\n",
        "101487  101488  0.00000\n",
        "101488  101489  0.06016\n",
        "101489  101490  0.06768\n",
        "101490  101491  0.04231\n",
        "101491  101492  0.08390\n",
        "101492  101493  0.04456\n",
        "101493  101494  0.03712\n",
        "101494  101495  0.03215\n",
        "101495  101496  0.09102\n",
        "101496  101497  0.00000\n",
        "101497  101498  0.01131\n",
        "101498  101499  0.14264\n",
        "101499  101500  0.06124\n",
        "101500  101501  0.02859\n",
        "101501  101502  0.05377\n",
        "101502  101503  0.07111\n",
        "\n",
        "[101503 rows x 2 columns]"
       ]
      },
      {
       "output_type": "stream",
       "stream": "stdout",
       "text": [
        "\n"
       ]
      }
     ],
     "prompt_number": 21
    },
    {
     "cell_type": "markdown",
     "metadata": {},
     "source": [
      "On va creer une fonction test qui quand on lui donne une "
     ]
    },
    {
     "cell_type": "code",
     "collapsed": false,
     "input": [
      "print(xtestfinal)\n",
      "print(len(xtestfinal[1]))\n",
      "print(\"diff\")\n",
      "print(len(xtest[1]))"
     ],
     "language": "python",
     "metadata": {},
     "outputs": [
      {
       "output_type": "stream",
       "stream": "stdout",
       "text": [
        "[[  4.30000000e+01   0.00000000e+00   1.77512717e-01 ...,   0.00000000e+00\n",
        "    0.00000000e+00   0.00000000e+00]\n",
        " [  5.70000000e+01   0.00000000e+00   5.27236928e-01 ...,   4.00000000e+00\n",
        "    0.00000000e+00   2.00000000e+00]\n",
        " [  5.90000000e+01   0.00000000e+00   6.87647522e-01 ...,   1.00000000e+00\n",
        "    0.00000000e+00   2.00000000e+00]\n",
        " ..., \n",
        " [  7.00000000e+01   0.00000000e+00   8.36000000e+02 ...,   0.00000000e+00\n",
        "    0.00000000e+00   0.00000000e+00]\n",
        " [  5.60000000e+01   0.00000000e+00   3.56800000e+03 ...,   2.00000000e+00\n",
        "    1.00000000e+00   3.00000000e+00]\n",
        " [  2.90000000e+01   0.00000000e+00   1.98918371e-01 ...,   0.00000000e+00\n",
        "    0.00000000e+00   0.00000000e+00]]\n",
        "9\n",
        "diff\n",
        "10\n"
       ]
      }
     ],
     "prompt_number": 135
    },
    {
     "cell_type": "heading",
     "level": 2,
     "metadata": {},
     "source": [
      "6. Arbres"
     ]
    },
    {
     "cell_type": "code",
     "collapsed": false,
     "input": [
      "from sklearn.tree import DecisionTreeRegressor\n",
      "def Arbre():\n",
      "    resultat = 0\n",
      "\n",
      "   \n",
      "    clf = DecisionTreeRegressor(min_samples_leaf=10, max_depth=3)\n",
      "    \n",
      "    clf.fit(xtrain, ytrain)\n",
      "    #print(clf.score(Xt,Y))\n",
      "    Z = clf.predict_proba(xtest)\n",
      "    print(Z)\n",
      "    #Z = [round(i[1], 5) for i in Z ]\n",
      "    resultat = format(roc_auc_score(ytest, Z))\n",
      "    return(resultat)\n"
     ],
     "language": "python",
     "metadata": {},
     "outputs": [],
     "prompt_number": 2
    },
    {
     "cell_type": "code",
     "collapsed": false,
     "input": [
      "Arbre()"
     ],
     "language": "python",
     "metadata": {},
     "outputs": [
      {
       "ename": "NameError",
       "evalue": "global name 'xtrain' is not defined",
       "output_type": "pyerr",
       "traceback": [
        "\u001b[0;31m---------------------------------------------------------------------------\u001b[0m\n\u001b[0;31mNameError\u001b[0m                                 Traceback (most recent call last)",
        "\u001b[0;32m<ipython-input-3-263797c7c950>\u001b[0m in \u001b[0;36m<module>\u001b[0;34m()\u001b[0m\n\u001b[0;32m----> 1\u001b[0;31m \u001b[0mArbre\u001b[0m\u001b[0;34m(\u001b[0m\u001b[0;34m)\u001b[0m\u001b[0;34m\u001b[0m\u001b[0m\n\u001b[0m",
        "\u001b[0;32m<ipython-input-2-d24e5f12488c>\u001b[0m in \u001b[0;36mArbre\u001b[0;34m()\u001b[0m\n\u001b[1;32m      6\u001b[0m     \u001b[0mclf\u001b[0m \u001b[0;34m=\u001b[0m \u001b[0mDecisionTreeRegressor\u001b[0m\u001b[0;34m(\u001b[0m\u001b[0mmin_samples_leaf\u001b[0m\u001b[0;34m=\u001b[0m\u001b[0;36m10\u001b[0m\u001b[0;34m,\u001b[0m \u001b[0mmax_depth\u001b[0m\u001b[0;34m=\u001b[0m\u001b[0;36m3\u001b[0m\u001b[0;34m)\u001b[0m\u001b[0;34m\u001b[0m\u001b[0m\n\u001b[1;32m      7\u001b[0m \u001b[0;34m\u001b[0m\u001b[0m\n\u001b[0;32m----> 8\u001b[0;31m     \u001b[0mclf\u001b[0m\u001b[0;34m.\u001b[0m\u001b[0mfit\u001b[0m\u001b[0;34m(\u001b[0m\u001b[0mxtrain\u001b[0m\u001b[0;34m,\u001b[0m \u001b[0mytrain\u001b[0m\u001b[0;34m)\u001b[0m\u001b[0;34m\u001b[0m\u001b[0m\n\u001b[0m\u001b[1;32m      9\u001b[0m     \u001b[0;31m#print(clf.score(Xt,Y))\u001b[0m\u001b[0;34m\u001b[0m\u001b[0;34m\u001b[0m\u001b[0m\n\u001b[1;32m     10\u001b[0m     \u001b[0mZ\u001b[0m \u001b[0;34m=\u001b[0m \u001b[0mclf\u001b[0m\u001b[0;34m.\u001b[0m\u001b[0mpredict_proba\u001b[0m\u001b[0;34m(\u001b[0m\u001b[0mxtest\u001b[0m\u001b[0;34m)\u001b[0m\u001b[0;34m\u001b[0m\u001b[0m\n",
        "\u001b[0;31mNameError\u001b[0m: global name 'xtrain' is not defined"
       ]
      }
     ],
     "prompt_number": 3
    }
   ],
   "metadata": {}
  }
 ]
}